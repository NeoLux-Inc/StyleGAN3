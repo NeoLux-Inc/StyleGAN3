{
 "cells": [
  {
   "cell_type": "markdown",
   "metadata": {},
   "source": [
    "<a href=\"https://colab.research.google.com/github/NeoLux-Inc/StyleGAN3/blob/main/StyleGAN3.ipynb\" target=\"_parent\"><img src=\"https://colab.research.google.com/assets/colab-badge.svg\" alt=\"Open In Colab\"/></a>"
   ]
  },
  {
   "cell_type": "code",
   "execution_count": null,
   "metadata": {},
   "outputs": [],
   "source": [
    "from google.colab import drive\n",
    "drive.mount('/content/drive')"
   ]
  },
  {
   "cell_type": "code",
   "execution_count": null,
   "metadata": {},
   "outputs": [],
   "source": [
    "%cd /content/drive/MyDrive/StyleGAN3"
   ]
  },
  {
   "cell_type": "code",
   "execution_count": null,
   "metadata": {},
   "outputs": [],
   "source": [
    "!pip install imgui\n",
    "!pip install glfw"
   ]
  },
  {
   "cell_type": "code",
   "execution_count": null,
   "metadata": {},
   "outputs": [],
   "source": [
    "!wget https://github.com/ninja-build/ninja/releases/download/v1.8.2/ninja-linux.zip\n",
    "!echo \"Shinji0923\" | sudo -S unzip ninja-linux.zip -d /usr/local/bin/\n",
    "!echo \"Shinji0923\" | sudo -S update-alternatives --install /usr/bin/ninja ninja /usr/local/bin/ninja 1 --force \n"
   ]
  },
  {
   "cell_type": "code",
   "execution_count": null,
   "metadata": {},
   "outputs": [],
   "source": [
    "!python projector.py --network=ffhq-dataset/stylegan3-r-ffhq-1024x1024.pkl --target inputs/img/female.jpg --num-steps 20 --outdir outputs"
   ]
  },
  {
   "cell_type": "markdown",
   "metadata": {},
   "source": [
    "!python projector.py --help\n",
    "\n",
    "Usage: projector.py [OPTIONS]\n",
    "\n",
    "  Project given image to the latent space of\n",
    "  pretrained network pickle. Examples: python\n",
    "  projector.py --outdir=out\n",
    "  --target=~/mytargetimg.png \\\n",
    "  --network=https://nvlabs-fi-\n",
    "  cdn.nvidia.com/stylegan2-ada-\n",
    "  pytorch/pretrained/ffhq.pkl\n",
    "\n",
    "Options:\n",
    "  --network TEXT        Network pickle filename\n",
    "                        [required]\n",
    "  --target FILE         Target image file to\n",
    "                        project to  [required]\n",
    "  --num-steps INTEGER   Number of optimization\n",
    "                        steps  [default: 1000]\n",
    "  --seed INTEGER        Random seed  [default:\n",
    "                        303]\n",
    "  --save-video BOOLEAN  Save an mp4 video of\n",
    "                        optimization progress\n",
    "                        [default: True]\n",
    "  --outdir DIR          Where to save the output\n",
    "                        images  [required]\n",
    "  --fps INTEGER         Frames per second of final\n",
    "                        video  [default: 30]\n",
    "  --help                Show this message and\n",
    "                        exit."
   ]
  }
 ],
 "metadata": {
  "language_info": {
   "name": "python"
  },
  "orig_nbformat": 4
 },
 "nbformat": 4,
 "nbformat_minor": 2
}
